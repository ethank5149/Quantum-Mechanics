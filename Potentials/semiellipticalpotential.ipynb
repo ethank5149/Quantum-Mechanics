{
 "metadata": {
  "language_info": {
   "codemirror_mode": {
    "name": "ipython",
    "version": 3
   },
   "file_extension": ".py",
   "mimetype": "text/x-python",
   "name": "python",
   "nbconvert_exporter": "python",
   "pygments_lexer": "ipython3",
   "version": "3.7.7-final"
  },
  "orig_nbformat": 2,
  "kernelspec": {
   "name": "python_defaultSpec_1596518935833",
   "display_name": "Python 3.7.7 64-bit ('py3': conda)"
  }
 },
 "nbformat": 4,
 "nbformat_minor": 2,
 "cells": [
  {
   "cell_type": "code",
   "execution_count": 1,
   "metadata": {},
   "outputs": [],
   "source": [
    "import sympy as sp"
   ]
  },
  {
   "cell_type": "code",
   "execution_count": 2,
   "metadata": {},
   "outputs": [],
   "source": [
    "v0,l,x,y = sp.symbols('V_0 L x y')"
   ]
  },
  {
   "cell_type": "code",
   "execution_count": 3,
   "metadata": {},
   "outputs": [
    {
     "output_type": "execute_result",
     "data": {
      "text/plain": "Eq((-V_0 + y)**2 + 4*V_0**2*x**2/L**2, V_0**2)",
      "text/latex": "$\\displaystyle \\left(- V_{0} + y\\right)^{2} + \\frac{4 V_{0}^{2} x^{2}}{L^{2}} = V_{0}^{2}$"
     },
     "metadata": {},
     "execution_count": 3
    }
   ],
   "source": [
    "eq1 = sp.Eq(x**2/(l/(2*v0))**2+(y-v0)**2,v0**2)\n",
    "eq1"
   ]
  },
  {
   "cell_type": "code",
   "execution_count": 7,
   "metadata": {},
   "outputs": [
    {
     "output_type": "execute_result",
     "data": {
      "text/plain": "V_0*(L - sqrt(L**2 - 4*x**2))/L",
      "text/latex": "$\\displaystyle \\frac{V_{0} \\left(L - \\sqrt{L^{2} - 4 x^{2}}\\right)}{L}$"
     },
     "metadata": {},
     "execution_count": 7
    }
   ],
   "source": [
    "eq = sp.solve(eq1,y)[0]\n",
    "sp.simplify(eq)"
   ]
  },
  {
   "cell_type": "code",
   "execution_count": null,
   "metadata": {},
   "outputs": [],
   "source": []
  }
 ]
}